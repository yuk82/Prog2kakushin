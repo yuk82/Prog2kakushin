{
  "nbformat": 4,
  "nbformat_minor": 0,
  "metadata": {
    "colab": {
      "provenance": [],
      "authorship_tag": "ABX9TyN1+4PqwTGzYwXKsUw3/kEw",
      "include_colab_link": true
    },
    "kernelspec": {
      "name": "python3",
      "display_name": "Python 3"
    },
    "language_info": {
      "name": "python"
    }
  },
  "cells": [
    {
      "cell_type": "markdown",
      "metadata": {
        "id": "view-in-github",
        "colab_type": "text"
      },
      "source": [
        "<a href=\"https://colab.research.google.com/github/yuk82/Prog2kakushin/blob/main/work3.ipynb\" target=\"_parent\"><img src=\"https://colab.research.google.com/assets/colab-badge.svg\" alt=\"Open In Colab\"/></a>"
      ]
    },
    {
      "cell_type": "markdown",
      "source": [
        "turtleを利用して多重図形を描くプログラムを作成"
      ],
      "metadata": {
        "id": "ik1BnqHk3cC6"
      }
    },
    {
      "cell_type": "code",
      "execution_count": 4,
      "metadata": {
        "id": "A1tUh2Ua3E8N",
        "colab": {
          "base_uri": "https://localhost:8080/"
        },
        "outputId": "d55df002-fd06-487c-822a-095552cb8ad3"
      },
      "outputs": [
        {
          "output_type": "stream",
          "name": "stdout",
          "text": [
            "Looking in indexes: https://pypi.org/simple, https://us-python.pkg.dev/colab-wheels/public/simple/\n",
            "Requirement already satisfied: ColabTurtlePlus in /usr/local/lib/python3.8/dist-packages (2.0.1)\n"
          ]
        }
      ],
      "source": [
        "#turtle使用準備\n",
        "!pip3 install ColabTurtlePlus\n",
        "from ColabTurtlePlus.Turtle import *"
      ]
    },
    {
      "cell_type": "code",
      "source": [
        "#多重円を描く\n",
        "clearscreen()\n",
        "x=int(input('最大の円の直径を指定してください：',))\n",
        "n=int(input('円の数を指定してください：'))\n",
        "y=x/n\n",
        "setup(x+2,x+2)\n",
        "turtle=Turtle()\n",
        "turtle.shape('turtle')\n",
        "turtle.speed(5)\n",
        "while x>0:\n",
        "  turtle.penup()\n",
        "  turtle.goto(0,-x/2)\n",
        "  turtle.pendown()\n",
        "  turtle.circle(x/2)\n",
        "  x-=y\n",
        "turtle.hideturtle()"
      ],
      "metadata": {
        "colab": {
          "base_uri": "https://localhost:8080/",
          "height": 560
        },
        "id": "kD_0QO1Gm074",
        "outputId": "d003aecc-8f3b-4d5a-cdf4-5a4f72d400dd"
      },
      "execution_count": 39,
      "outputs": [
        {
          "name": "stdout",
          "output_type": "stream",
          "text": [
            "最大の円の直径を指定してください：500\n",
            "円の数を指定してください：33\n"
          ]
        },
        {
          "output_type": "display_data",
          "data": {
            "text/plain": [
              "<IPython.core.display.HTML object>"
            ],
            "text/html": [
              "\n",
              "      <svg width=\"502\" height=\"502\">  \n",
              "        <rect width=\"100%\" height=\"100%\" style=\"fill:white;stroke:;stroke-width:1\"/>\n",
              "        \n",
              "        \n",
              "        <path d=\"M 251.0 501.0 A 250.0 250.0 0 0 0 251.0 1.0\" stroke-linecap=\"round\" \n",
              "            fill=\"transparent\" fill-opacity=\"0\" style=\"stroke:black;stroke-width:1\"/><path d=\"M 251.0 1.0 A 250.0 250.0 0 0 0 251.0 501.0\" stroke-linecap=\"round\" \n",
              "            fill=\"transparent\" fill-opacity=\"0\" style=\"stroke:black;stroke-width:1\"/><path d=\"M 251.0 493.424 A 242.42424242424244 242.42424242424244 0 0 0 251.0 8.576\" stroke-linecap=\"round\" \n",
              "            fill=\"transparent\" fill-opacity=\"0\" style=\"stroke:black;stroke-width:1\"/><path d=\"M 251.0 8.576 A 242.42424242424244 242.42424242424244 0 0 0 251.0 493.424\" stroke-linecap=\"round\" \n",
              "            fill=\"transparent\" fill-opacity=\"0\" style=\"stroke:black;stroke-width:1\"/><path d=\"M 251.0 485.848 A 234.84848484848487 234.84848484848487 0 0 0 251.0 16.151\" stroke-linecap=\"round\" \n",
              "            fill=\"transparent\" fill-opacity=\"0\" style=\"stroke:black;stroke-width:1\"/><path d=\"M 251.0 16.151 A 234.84848484848487 234.84848484848487 0 0 0 251.0 485.848\" stroke-linecap=\"round\" \n",
              "            fill=\"transparent\" fill-opacity=\"0\" style=\"stroke:black;stroke-width:1\"/><path d=\"M 251.0 478.273 A 227.2727272727273 227.2727272727273 0 0 0 251.0 23.728\" stroke-linecap=\"round\" \n",
              "            fill=\"transparent\" fill-opacity=\"0\" style=\"stroke:black;stroke-width:1\"/><path d=\"M 251.0 23.728 A 227.2727272727273 227.2727272727273 0 0 0 251.0 478.273\" stroke-linecap=\"round\" \n",
              "            fill=\"transparent\" fill-opacity=\"0\" style=\"stroke:black;stroke-width:1\"/><path d=\"M 251.0 470.697 A 219.69696969696975 219.69696969696975 0 0 0 251.0 31.303\" stroke-linecap=\"round\" \n",
              "            fill=\"transparent\" fill-opacity=\"0\" style=\"stroke:black;stroke-width:1\"/><path d=\"M 251.0 31.303 A 219.69696969696975 219.69696969696975 0 0 0 251.0 470.697\" stroke-linecap=\"round\" \n",
              "            fill=\"transparent\" fill-opacity=\"0\" style=\"stroke:black;stroke-width:1\"/><path d=\"M 251.0 463.121 A 212.12121212121218 212.12121212121218 0 0 0 251.0 38.879\" stroke-linecap=\"round\" \n",
              "            fill=\"transparent\" fill-opacity=\"0\" style=\"stroke:black;stroke-width:1\"/><path d=\"M 251.0 38.879 A 212.12121212121218 212.12121212121218 0 0 0 251.0 463.121\" stroke-linecap=\"round\" \n",
              "            fill=\"transparent\" fill-opacity=\"0\" style=\"stroke:black;stroke-width:1\"/><path d=\"M 251.0 455.545 A 204.54545454545462 204.54545454545462 0 0 0 251.0 46.454\" stroke-linecap=\"round\" \n",
              "            fill=\"transparent\" fill-opacity=\"0\" style=\"stroke:black;stroke-width:1\"/><path d=\"M 251.0 46.454 A 204.54545454545462 204.54545454545462 0 0 0 251.0 455.545\" stroke-linecap=\"round\" \n",
              "            fill=\"transparent\" fill-opacity=\"0\" style=\"stroke:black;stroke-width:1\"/><path d=\"M 251.0 447.97 A 196.96969696969705 196.96969696969705 0 0 0 251.0 54.031\" stroke-linecap=\"round\" \n",
              "            fill=\"transparent\" fill-opacity=\"0\" style=\"stroke:black;stroke-width:1\"/><path d=\"M 251.0 54.031 A 196.96969696969705 196.96969696969705 0 0 0 251.0 447.97\" stroke-linecap=\"round\" \n",
              "            fill=\"transparent\" fill-opacity=\"0\" style=\"stroke:black;stroke-width:1\"/><path d=\"M 251.0 440.394 A 189.3939393939395 189.3939393939395 0 0 0 251.0 61.606\" stroke-linecap=\"round\" \n",
              "            fill=\"transparent\" fill-opacity=\"0\" style=\"stroke:black;stroke-width:1\"/><path d=\"M 251.0 61.606 A 189.3939393939395 189.3939393939395 0 0 0 251.0 440.394\" stroke-linecap=\"round\" \n",
              "            fill=\"transparent\" fill-opacity=\"0\" style=\"stroke:black;stroke-width:1\"/><path d=\"M 251.0 432.818 A 181.81818181818193 181.81818181818193 0 0 0 251.0 69.182\" stroke-linecap=\"round\" \n",
              "            fill=\"transparent\" fill-opacity=\"0\" style=\"stroke:black;stroke-width:1\"/><path d=\"M 251.0 69.182 A 181.81818181818193 181.81818181818193 0 0 0 251.0 432.818\" stroke-linecap=\"round\" \n",
              "            fill=\"transparent\" fill-opacity=\"0\" style=\"stroke:black;stroke-width:1\"/><path d=\"M 251.0 425.242 A 174.24242424242436 174.24242424242436 0 0 0 251.0 76.757\" stroke-linecap=\"round\" \n",
              "            fill=\"transparent\" fill-opacity=\"0\" style=\"stroke:black;stroke-width:1\"/><path d=\"M 251.0 76.757 A 174.24242424242436 174.24242424242436 0 0 0 251.0 425.242\" stroke-linecap=\"round\" \n",
              "            fill=\"transparent\" fill-opacity=\"0\" style=\"stroke:black;stroke-width:1\"/><path d=\"M 251.0 417.667 A 166.6666666666668 166.6666666666668 0 0 0 251.0 84.334\" stroke-linecap=\"round\" \n",
              "            fill=\"transparent\" fill-opacity=\"0\" style=\"stroke:black;stroke-width:1\"/><path d=\"M 251.0 84.334 A 166.6666666666668 166.6666666666668 0 0 0 251.0 417.667\" stroke-linecap=\"round\" \n",
              "            fill=\"transparent\" fill-opacity=\"0\" style=\"stroke:black;stroke-width:1\"/><path d=\"M 251.0 410.091 A 159.09090909090924 159.09090909090924 0 0 0 251.0 91.909\" stroke-linecap=\"round\" \n",
              "            fill=\"transparent\" fill-opacity=\"0\" style=\"stroke:black;stroke-width:1\"/><path d=\"M 251.0 91.909 A 159.09090909090924 159.09090909090924 0 0 0 251.0 410.091\" stroke-linecap=\"round\" \n",
              "            fill=\"transparent\" fill-opacity=\"0\" style=\"stroke:black;stroke-width:1\"/><path d=\"M 251.0 402.515 A 151.51515151515167 151.51515151515167 0 0 0 251.0 99.485\" stroke-linecap=\"round\" \n",
              "            fill=\"transparent\" fill-opacity=\"0\" style=\"stroke:black;stroke-width:1\"/><path d=\"M 251.0 99.485 A 151.51515151515167 151.51515151515167 0 0 0 251.0 402.515\" stroke-linecap=\"round\" \n",
              "            fill=\"transparent\" fill-opacity=\"0\" style=\"stroke:black;stroke-width:1\"/><path d=\"M 251.0 394.939 A 143.9393939393941 143.9393939393941 0 0 0 251.0 107.06\" stroke-linecap=\"round\" \n",
              "            fill=\"transparent\" fill-opacity=\"0\" style=\"stroke:black;stroke-width:1\"/><path d=\"M 251.0 107.06 A 143.9393939393941 143.9393939393941 0 0 0 251.0 394.939\" stroke-linecap=\"round\" \n",
              "            fill=\"transparent\" fill-opacity=\"0\" style=\"stroke:black;stroke-width:1\"/><path d=\"M 251.0 387.364 A 136.36363636363654 136.36363636363654 0 0 0 251.0 114.637\" stroke-linecap=\"round\" \n",
              "            fill=\"transparent\" fill-opacity=\"0\" style=\"stroke:black;stroke-width:1\"/><path d=\"M 251.0 114.637 A 136.36363636363654 136.36363636363654 0 0 0 251.0 387.364\" stroke-linecap=\"round\" \n",
              "            fill=\"transparent\" fill-opacity=\"0\" style=\"stroke:black;stroke-width:1\"/><path d=\"M 251.0 379.788 A 128.78787878787898 128.78787878787898 0 0 0 251.0 122.212\" stroke-linecap=\"round\" \n",
              "            fill=\"transparent\" fill-opacity=\"0\" style=\"stroke:black;stroke-width:1\"/><path d=\"M 251.0 122.212 A 128.78787878787898 128.78787878787898 0 0 0 251.0 379.788\" stroke-linecap=\"round\" \n",
              "            fill=\"transparent\" fill-opacity=\"0\" style=\"stroke:black;stroke-width:1\"/><path d=\"M 251.0 372.212 A 121.2121212121214 121.2121212121214 0 0 0 251.0 129.788\" stroke-linecap=\"round\" \n",
              "            fill=\"transparent\" fill-opacity=\"0\" style=\"stroke:black;stroke-width:1\"/><path d=\"M 251.0 129.788 A 121.2121212121214 121.2121212121214 0 0 0 251.0 372.212\" stroke-linecap=\"round\" \n",
              "            fill=\"transparent\" fill-opacity=\"0\" style=\"stroke:black;stroke-width:1\"/><path d=\"M 251.0 364.636 A 113.63636363636382 113.63636363636382 0 0 0 251.0 137.363\" stroke-linecap=\"round\" \n",
              "            fill=\"transparent\" fill-opacity=\"0\" style=\"stroke:black;stroke-width:1\"/><path d=\"M 251.0 137.363 A 113.63636363636382 113.63636363636382 0 0 0 251.0 364.636\" stroke-linecap=\"round\" \n",
              "            fill=\"transparent\" fill-opacity=\"0\" style=\"stroke:black;stroke-width:1\"/><path d=\"M 251.0 357.061 A 106.06060606060625 106.06060606060625 0 0 0 251.0 144.94\" stroke-linecap=\"round\" \n",
              "            fill=\"transparent\" fill-opacity=\"0\" style=\"stroke:black;stroke-width:1\"/><path d=\"M 251.0 144.94 A 106.06060606060625 106.06060606060625 0 0 0 251.0 357.061\" stroke-linecap=\"round\" \n",
              "            fill=\"transparent\" fill-opacity=\"0\" style=\"stroke:black;stroke-width:1\"/><path d=\"M 251.0 349.485 A 98.48484848484867 98.48484848484867 0 0 0 251.0 152.515\" stroke-linecap=\"round\" \n",
              "            fill=\"transparent\" fill-opacity=\"0\" style=\"stroke:black;stroke-width:1\"/><path d=\"M 251.0 152.515 A 98.48484848484867 98.48484848484867 0 0 0 251.0 349.485\" stroke-linecap=\"round\" \n",
              "            fill=\"transparent\" fill-opacity=\"0\" style=\"stroke:black;stroke-width:1\"/><path d=\"M 251.0 341.909 A 90.90909090909109 90.90909090909109 0 0 0 251.0 160.091\" stroke-linecap=\"round\" \n",
              "            fill=\"transparent\" fill-opacity=\"0\" style=\"stroke:black;stroke-width:1\"/><path d=\"M 251.0 160.091 A 90.90909090909109 90.90909090909109 0 0 0 251.0 341.909\" stroke-linecap=\"round\" \n",
              "            fill=\"transparent\" fill-opacity=\"0\" style=\"stroke:black;stroke-width:1\"/><path d=\"M 251.0 334.333 A 83.33333333333351 83.33333333333351 0 0 0 251.0 167.666\" stroke-linecap=\"round\" \n",
              "            fill=\"transparent\" fill-opacity=\"0\" style=\"stroke:black;stroke-width:1\"/><path d=\"M 251.0 167.666 A 83.33333333333351 83.33333333333351 0 0 0 251.0 334.333\" stroke-linecap=\"round\" \n",
              "            fill=\"transparent\" fill-opacity=\"0\" style=\"stroke:black;stroke-width:1\"/><path d=\"M 251.0 326.758 A 75.75757575757594 75.75757575757594 0 0 0 251.0 175.243\" stroke-linecap=\"round\" \n",
              "            fill=\"transparent\" fill-opacity=\"0\" style=\"stroke:black;stroke-width:1\"/><path d=\"M 251.0 175.243 A 75.75757575757594 75.75757575757594 0 0 0 251.0 326.758\" stroke-linecap=\"round\" \n",
              "            fill=\"transparent\" fill-opacity=\"0\" style=\"stroke:black;stroke-width:1\"/><path d=\"M 251.0 319.182 A 68.18181818181836 68.18181818181836 0 0 0 251.0 182.818\" stroke-linecap=\"round\" \n",
              "            fill=\"transparent\" fill-opacity=\"0\" style=\"stroke:black;stroke-width:1\"/><path d=\"M 251.0 182.818 A 68.18181818181836 68.18181818181836 0 0 0 251.0 319.182\" stroke-linecap=\"round\" \n",
              "            fill=\"transparent\" fill-opacity=\"0\" style=\"stroke:black;stroke-width:1\"/><path d=\"M 251.0 311.606 A 60.60606060606078 60.60606060606078 0 0 0 251.0 190.394\" stroke-linecap=\"round\" \n",
              "            fill=\"transparent\" fill-opacity=\"0\" style=\"stroke:black;stroke-width:1\"/><path d=\"M 251.0 190.394 A 60.60606060606078 60.60606060606078 0 0 0 251.0 311.606\" stroke-linecap=\"round\" \n",
              "            fill=\"transparent\" fill-opacity=\"0\" style=\"stroke:black;stroke-width:1\"/><path d=\"M 251.0 304.03 A 53.0303030303032 53.0303030303032 0 0 0 251.0 197.969\" stroke-linecap=\"round\" \n",
              "            fill=\"transparent\" fill-opacity=\"0\" style=\"stroke:black;stroke-width:1\"/><path d=\"M 251.0 197.969 A 53.0303030303032 53.0303030303032 0 0 0 251.0 304.03\" stroke-linecap=\"round\" \n",
              "            fill=\"transparent\" fill-opacity=\"0\" style=\"stroke:black;stroke-width:1\"/><path d=\"M 251.0 296.455 A 45.454545454545624 45.454545454545624 0 0 0 251.0 205.546\" stroke-linecap=\"round\" \n",
              "            fill=\"transparent\" fill-opacity=\"0\" style=\"stroke:black;stroke-width:1\"/><path d=\"M 251.0 205.546 A 45.454545454545624 45.454545454545624 0 0 0 251.0 296.455\" stroke-linecap=\"round\" \n",
              "            fill=\"transparent\" fill-opacity=\"0\" style=\"stroke:black;stroke-width:1\"/><path d=\"M 251.0 288.879 A 37.878787878788046 37.878787878788046 0 0 0 251.0 213.121\" stroke-linecap=\"round\" \n",
              "            fill=\"transparent\" fill-opacity=\"0\" style=\"stroke:black;stroke-width:1\"/><path d=\"M 251.0 213.121 A 37.878787878788046 37.878787878788046 0 0 0 251.0 288.879\" stroke-linecap=\"round\" \n",
              "            fill=\"transparent\" fill-opacity=\"0\" style=\"stroke:black;stroke-width:1\"/><path d=\"M 251.0 281.303 A 30.303030303030468 30.303030303030468 0 0 0 251.0 220.697\" stroke-linecap=\"round\" \n",
              "            fill=\"transparent\" fill-opacity=\"0\" style=\"stroke:black;stroke-width:1\"/><path d=\"M 251.0 220.697 A 30.303030303030468 30.303030303030468 0 0 0 251.0 281.303\" stroke-linecap=\"round\" \n",
              "            fill=\"transparent\" fill-opacity=\"0\" style=\"stroke:black;stroke-width:1\"/><path d=\"M 251.0 273.727 A 22.72727272727289 22.72727272727289 0 0 0 251.0 228.272\" stroke-linecap=\"round\" \n",
              "            fill=\"transparent\" fill-opacity=\"0\" style=\"stroke:black;stroke-width:1\"/><path d=\"M 251.0 228.272 A 22.72727272727289 22.72727272727289 0 0 0 251.0 273.727\" stroke-linecap=\"round\" \n",
              "            fill=\"transparent\" fill-opacity=\"0\" style=\"stroke:black;stroke-width:1\"/><path d=\"M 251.0 266.152 A 15.151515151515314 15.151515151515314 0 0 0 251.0 235.849\" stroke-linecap=\"round\" \n",
              "            fill=\"transparent\" fill-opacity=\"0\" style=\"stroke:black;stroke-width:1\"/><path d=\"M 251.0 235.849 A 15.151515151515314 15.151515151515314 0 0 0 251.0 266.152\" stroke-linecap=\"round\" \n",
              "            fill=\"transparent\" fill-opacity=\"0\" style=\"stroke:black;stroke-width:1\"/><path d=\"M 251.0 258.576 A 7.575757575757738 7.575757575757738 0 0 0 251.0 243.424\" stroke-linecap=\"round\" \n",
              "            fill=\"transparent\" fill-opacity=\"0\" style=\"stroke:black;stroke-width:1\"/><path d=\"M 251.0 243.424 A 7.575757575757738 7.575757575757738 0 0 0 251.0 258.576\" stroke-linecap=\"round\" \n",
              "            fill=\"transparent\" fill-opacity=\"0\" style=\"stroke:black;stroke-width:1\"/><path d=\"M 251.0 251.0 A 1.616484723854228e-13 1.616484723854228e-13 0 0 0 251.0 251.0\" stroke-linecap=\"round\" \n",
              "            fill=\"transparent\" fill-opacity=\"0\" style=\"stroke:black;stroke-width:1\"/><path d=\"M 251.0 251.0 A 1.616484723854228e-13 1.616484723854228e-13 0 0 0 251.0 251.0\" stroke-linecap=\"round\" \n",
              "            fill=\"transparent\" fill-opacity=\"0\" style=\"stroke:black;stroke-width:1\"/>\n",
              "        \n",
              "        \n",
              "        <g id=\"turtle\" visibility=\"hidden\" transform=\"rotate(90.0,251.0,251.0) translate(251.0, 251.0)\">\n",
              "<path style=\"stroke:black;fill-rule:evenodd;fill:black;fill-opacity:1;\" transform=\"skewX(0) scale(1,1)\" d=\"m 1.1536693,-18.56101 c -2.105469,1.167969 -3.203125,3.441407 -3.140625,6.5 l 0.011719,0.519532 -0.300782,-0.15625 c -1.308594,-0.671875 -2.828125,-0.824219 -4.378906,-0.429688 -1.9375,0.484375 -3.8906253,2.089844 -6.0117193,4.9257825 -1.332031,1.785156 -1.714843,2.644531 -1.351562,3.035156 l 0.113281,0.125 h 0.363281 c 0.71875,0 1.308594,-0.265625 4.6679693,-2.113282 1.199219,-0.660156 2.183594,-1.199218 2.191406,-1.199218 0.00781,0 -0.023437,0.089844 -0.074218,0.195312 -0.472657,1.058594 -1.046876,2.785156 -1.335938,4.042969 -1.054688,4.574219 -0.351562,8.453125 2.101562,11.582031 0.28125,0.355469 0.292969,0.253906 -0.097656,0.722656 -2.046875,2.4609375 -3.027344,4.8984375 -2.734375,6.8046875 0.050781,0.339844 0.042969,0.335938 0.679688,0.335938 2.023437,0 4.15625,-1.316407 6.21875,-3.835938 0.222656,-0.269531 0.191406,-0.261719 0.425781,-0.113281 0.730469,0.46875 2.460938,1.390625 2.613281,1.390625 0.160157,0 1.765625,-0.753906 2.652344,-1.246094 0.167969,-0.09375 0.308594,-0.164062 0.308594,-0.160156 0.066406,0.105468 0.761719,0.855468 1.085937,1.171875 1.613282,1.570312 3.339844,2.402343 5.3593747,2.570312 0.324219,0.02734 0.355469,0.0078 0.425781,-0.316406 0.375,-1.742187 -0.382812,-4.058594 -2.1445307,-6.5585935 l -0.320312,-0.457031 0.15625,-0.183594 c 3.2460927,-3.824218 3.4335927,-9.08593704 0.558593,-15.816406 l -0.050781,-0.125 1.7382807,0.859375 c 3.585938,1.773437 4.371094,2.097656 5.085938,2.097656 0.945312,0 0.75,-0.863281 -0.558594,-2.507812 C 11.458356,-11.838353 8.3333563,-13.268041 4.8607003,-11.721166 l -0.363281,0.164063 0.019531,-0.09375 c 0.121094,-0.550781 0.183594,-1.800781 0.121094,-2.378907 -0.203125,-1.867187 -1.035157,-3.199218 -2.695313,-4.308593 -0.523437,-0.351563 -0.546875,-0.355469 -0.789062,-0.222657\" />\n",
              "</g>\n",
              "      </svg>\n",
              "    "
            ]
          },
          "metadata": {}
        }
      ]
    },
    {
      "cell_type": "code",
      "source": [
        "#多重正方形を描く\n",
        "clearscreen()\n",
        "x=int(input('最大の正方形の一辺の長さを入力してください：',))\n",
        "n=int(input('正方形の数を入力してください：'))\n",
        "y=x/n\n",
        "setup(x+2,x+2)\n",
        "turtle=Turtle()\n",
        "turtle.shape('turtle')\n",
        "turtle.speed(5)\n",
        "while x>0:\n",
        "  turtle.penup()\n",
        "  turtle.goto(-x/2,-x/2)\n",
        "  turtle.pendown()\n",
        "  for i in range(4):\n",
        "    turtle.forward(x)\n",
        "    turtle.left(90)\n",
        "  x-=y \n",
        "turtle.hideturtle()\n"
      ],
      "metadata": {
        "colab": {
          "base_uri": "https://localhost:8080/",
          "height": 460
        },
        "id": "ER3WlTZkueD3",
        "outputId": "e5be003b-d5c8-4936-d99e-344dbb986982"
      },
      "execution_count": 40,
      "outputs": [
        {
          "name": "stdout",
          "output_type": "stream",
          "text": [
            "最大の正方形の一辺の長さを入力してください：400\n",
            "正方形の数を入力してください：23\n"
          ]
        },
        {
          "output_type": "display_data",
          "data": {
            "text/plain": [
              "<IPython.core.display.HTML object>"
            ],
            "text/html": [
              "\n",
              "      <svg width=\"402\" height=\"402\">  \n",
              "        <rect width=\"100%\" height=\"100%\" style=\"fill:white;stroke:;stroke-width:1\"/>\n",
              "        \n",
              "        \n",
              "        <line x1=\"1.0\" y1=\"401.0\" x2=\"401.0\" y2=\"401.0\" stroke-linecap=\"round\" style=\"stroke:black;stroke-width:1\" /><line x1=\"401.0\" y1=\"401.0\" x2=\"401.0\" y2=\"1.0\" stroke-linecap=\"round\" style=\"stroke:black;stroke-width:1\" /><line x1=\"401.0\" y1=\"1.0\" x2=\"1.0\" y2=\"1.0\" stroke-linecap=\"round\" style=\"stroke:black;stroke-width:1\" /><line x1=\"1.0\" y1=\"1.0\" x2=\"1.0\" y2=\"401.0\" stroke-linecap=\"round\" style=\"stroke:black;stroke-width:1\" /><line x1=\"9.696\" y1=\"392.304\" x2=\"392.305\" y2=\"392.304\" stroke-linecap=\"round\" style=\"stroke:black;stroke-width:1\" /><line x1=\"392.305\" y1=\"392.304\" x2=\"392.305\" y2=\"9.695\" stroke-linecap=\"round\" style=\"stroke:black;stroke-width:1\" /><line x1=\"392.305\" y1=\"9.695\" x2=\"9.696\" y2=\"9.695\" stroke-linecap=\"round\" style=\"stroke:black;stroke-width:1\" /><line x1=\"9.696\" y1=\"9.695\" x2=\"9.696\" y2=\"392.304\" stroke-linecap=\"round\" style=\"stroke:black;stroke-width:1\" /><line x1=\"18.391\" y1=\"383.609\" x2=\"383.608\" y2=\"383.609\" stroke-linecap=\"round\" style=\"stroke:black;stroke-width:1\" /><line x1=\"383.608\" y1=\"383.609\" x2=\"383.608\" y2=\"18.392\" stroke-linecap=\"round\" style=\"stroke:black;stroke-width:1\" /><line x1=\"383.608\" y1=\"18.392\" x2=\"18.391\" y2=\"18.392\" stroke-linecap=\"round\" style=\"stroke:black;stroke-width:1\" /><line x1=\"18.391\" y1=\"18.392\" x2=\"18.391\" y2=\"383.609\" stroke-linecap=\"round\" style=\"stroke:black;stroke-width:1\" /><line x1=\"27.087\" y1=\"374.913\" x2=\"374.913\" y2=\"374.913\" stroke-linecap=\"round\" style=\"stroke:black;stroke-width:1\" /><line x1=\"374.913\" y1=\"374.913\" x2=\"374.913\" y2=\"27.087\" stroke-linecap=\"round\" style=\"stroke:black;stroke-width:1\" /><line x1=\"374.913\" y1=\"27.087\" x2=\"27.087\" y2=\"27.087\" stroke-linecap=\"round\" style=\"stroke:black;stroke-width:1\" /><line x1=\"27.087\" y1=\"27.087\" x2=\"27.087\" y2=\"374.913\" stroke-linecap=\"round\" style=\"stroke:black;stroke-width:1\" /><line x1=\"35.783\" y1=\"366.217\" x2=\"366.218\" y2=\"366.217\" stroke-linecap=\"round\" style=\"stroke:black;stroke-width:1\" /><line x1=\"366.218\" y1=\"366.217\" x2=\"366.218\" y2=\"35.782\" stroke-linecap=\"round\" style=\"stroke:black;stroke-width:1\" /><line x1=\"366.218\" y1=\"35.782\" x2=\"35.783\" y2=\"35.782\" stroke-linecap=\"round\" style=\"stroke:black;stroke-width:1\" /><line x1=\"35.783\" y1=\"35.782\" x2=\"35.783\" y2=\"366.217\" stroke-linecap=\"round\" style=\"stroke:black;stroke-width:1\" /><line x1=\"44.478\" y1=\"357.522\" x2=\"357.521\" y2=\"357.522\" stroke-linecap=\"round\" style=\"stroke:black;stroke-width:1\" /><line x1=\"357.521\" y1=\"357.522\" x2=\"357.521\" y2=\"44.479\" stroke-linecap=\"round\" style=\"stroke:black;stroke-width:1\" /><line x1=\"357.521\" y1=\"44.479\" x2=\"44.478\" y2=\"44.479\" stroke-linecap=\"round\" style=\"stroke:black;stroke-width:1\" /><line x1=\"44.478\" y1=\"44.479\" x2=\"44.478\" y2=\"357.522\" stroke-linecap=\"round\" style=\"stroke:black;stroke-width:1\" /><line x1=\"53.174\" y1=\"348.826\" x2=\"348.826\" y2=\"348.826\" stroke-linecap=\"round\" style=\"stroke:black;stroke-width:1\" /><line x1=\"348.826\" y1=\"348.826\" x2=\"348.826\" y2=\"53.174\" stroke-linecap=\"round\" style=\"stroke:black;stroke-width:1\" /><line x1=\"348.826\" y1=\"53.174\" x2=\"53.174\" y2=\"53.174\" stroke-linecap=\"round\" style=\"stroke:black;stroke-width:1\" /><line x1=\"53.174\" y1=\"53.174\" x2=\"53.174\" y2=\"348.826\" stroke-linecap=\"round\" style=\"stroke:black;stroke-width:1\" /><line x1=\"61.87\" y1=\"340.13\" x2=\"340.131\" y2=\"340.13\" stroke-linecap=\"round\" style=\"stroke:black;stroke-width:1\" /><line x1=\"340.131\" y1=\"340.13\" x2=\"340.131\" y2=\"61.869\" stroke-linecap=\"round\" style=\"stroke:black;stroke-width:1\" /><line x1=\"340.131\" y1=\"61.869\" x2=\"61.87\" y2=\"61.869\" stroke-linecap=\"round\" style=\"stroke:black;stroke-width:1\" /><line x1=\"61.87\" y1=\"61.869\" x2=\"61.87\" y2=\"340.13\" stroke-linecap=\"round\" style=\"stroke:black;stroke-width:1\" /><line x1=\"70.565\" y1=\"331.435\" x2=\"331.435\" y2=\"331.435\" stroke-linecap=\"round\" style=\"stroke:black;stroke-width:1\" /><line x1=\"331.435\" y1=\"331.435\" x2=\"331.435\" y2=\"70.565\" stroke-linecap=\"round\" style=\"stroke:black;stroke-width:1\" /><line x1=\"331.435\" y1=\"70.565\" x2=\"70.565\" y2=\"70.565\" stroke-linecap=\"round\" style=\"stroke:black;stroke-width:1\" /><line x1=\"70.565\" y1=\"70.565\" x2=\"70.565\" y2=\"331.435\" stroke-linecap=\"round\" style=\"stroke:black;stroke-width:1\" /><line x1=\"79.261\" y1=\"322.739\" x2=\"322.739\" y2=\"322.739\" stroke-linecap=\"round\" style=\"stroke:black;stroke-width:1\" /><line x1=\"322.739\" y1=\"322.739\" x2=\"322.739\" y2=\"79.261\" stroke-linecap=\"round\" style=\"stroke:black;stroke-width:1\" /><line x1=\"322.739\" y1=\"79.261\" x2=\"79.261\" y2=\"79.261\" stroke-linecap=\"round\" style=\"stroke:black;stroke-width:1\" /><line x1=\"79.261\" y1=\"79.261\" x2=\"79.261\" y2=\"322.739\" stroke-linecap=\"round\" style=\"stroke:black;stroke-width:1\" /><line x1=\"87.957\" y1=\"314.043\" x2=\"314.044\" y2=\"314.043\" stroke-linecap=\"round\" style=\"stroke:black;stroke-width:1\" /><line x1=\"314.044\" y1=\"314.043\" x2=\"314.044\" y2=\"87.956\" stroke-linecap=\"round\" style=\"stroke:black;stroke-width:1\" /><line x1=\"314.044\" y1=\"87.956\" x2=\"87.957\" y2=\"87.956\" stroke-linecap=\"round\" style=\"stroke:black;stroke-width:1\" /><line x1=\"87.957\" y1=\"87.956\" x2=\"87.957\" y2=\"314.043\" stroke-linecap=\"round\" style=\"stroke:black;stroke-width:1\" /><line x1=\"96.652\" y1=\"305.348\" x2=\"305.348\" y2=\"305.348\" stroke-linecap=\"round\" style=\"stroke:black;stroke-width:1\" /><line x1=\"305.348\" y1=\"305.348\" x2=\"305.348\" y2=\"96.652\" stroke-linecap=\"round\" style=\"stroke:black;stroke-width:1\" /><line x1=\"305.348\" y1=\"96.652\" x2=\"96.652\" y2=\"96.652\" stroke-linecap=\"round\" style=\"stroke:black;stroke-width:1\" /><line x1=\"96.652\" y1=\"96.652\" x2=\"96.652\" y2=\"305.348\" stroke-linecap=\"round\" style=\"stroke:black;stroke-width:1\" /><line x1=\"105.348\" y1=\"296.652\" x2=\"296.652\" y2=\"296.652\" stroke-linecap=\"round\" style=\"stroke:black;stroke-width:1\" /><line x1=\"296.652\" y1=\"296.652\" x2=\"296.652\" y2=\"105.348\" stroke-linecap=\"round\" style=\"stroke:black;stroke-width:1\" /><line x1=\"296.652\" y1=\"105.348\" x2=\"105.348\" y2=\"105.348\" stroke-linecap=\"round\" style=\"stroke:black;stroke-width:1\" /><line x1=\"105.348\" y1=\"105.348\" x2=\"105.348\" y2=\"296.652\" stroke-linecap=\"round\" style=\"stroke:black;stroke-width:1\" /><line x1=\"114.043\" y1=\"287.957\" x2=\"287.956\" y2=\"287.957\" stroke-linecap=\"round\" style=\"stroke:black;stroke-width:1\" /><line x1=\"287.956\" y1=\"287.957\" x2=\"287.956\" y2=\"114.044\" stroke-linecap=\"round\" style=\"stroke:black;stroke-width:1\" /><line x1=\"287.956\" y1=\"114.044\" x2=\"114.043\" y2=\"114.044\" stroke-linecap=\"round\" style=\"stroke:black;stroke-width:1\" /><line x1=\"114.043\" y1=\"114.044\" x2=\"114.043\" y2=\"287.957\" stroke-linecap=\"round\" style=\"stroke:black;stroke-width:1\" /><line x1=\"122.739\" y1=\"279.261\" x2=\"279.261\" y2=\"279.261\" stroke-linecap=\"round\" style=\"stroke:black;stroke-width:1\" /><line x1=\"279.261\" y1=\"279.261\" x2=\"279.261\" y2=\"122.739\" stroke-linecap=\"round\" style=\"stroke:black;stroke-width:1\" /><line x1=\"279.261\" y1=\"122.739\" x2=\"122.739\" y2=\"122.739\" stroke-linecap=\"round\" style=\"stroke:black;stroke-width:1\" /><line x1=\"122.739\" y1=\"122.739\" x2=\"122.739\" y2=\"279.261\" stroke-linecap=\"round\" style=\"stroke:black;stroke-width:1\" /><line x1=\"131.435\" y1=\"270.565\" x2=\"270.565\" y2=\"270.565\" stroke-linecap=\"round\" style=\"stroke:black;stroke-width:1\" /><line x1=\"270.565\" y1=\"270.565\" x2=\"270.565\" y2=\"131.435\" stroke-linecap=\"round\" style=\"stroke:black;stroke-width:1\" /><line x1=\"270.565\" y1=\"131.435\" x2=\"131.435\" y2=\"131.435\" stroke-linecap=\"round\" style=\"stroke:black;stroke-width:1\" /><line x1=\"131.435\" y1=\"131.435\" x2=\"131.435\" y2=\"270.565\" stroke-linecap=\"round\" style=\"stroke:black;stroke-width:1\" /><line x1=\"140.13\" y1=\"261.87\" x2=\"261.869\" y2=\"261.87\" stroke-linecap=\"round\" style=\"stroke:black;stroke-width:1\" /><line x1=\"261.869\" y1=\"261.87\" x2=\"261.869\" y2=\"140.131\" stroke-linecap=\"round\" style=\"stroke:black;stroke-width:1\" /><line x1=\"261.869\" y1=\"140.131\" x2=\"140.13\" y2=\"140.131\" stroke-linecap=\"round\" style=\"stroke:black;stroke-width:1\" /><line x1=\"140.13\" y1=\"140.131\" x2=\"140.13\" y2=\"261.87\" stroke-linecap=\"round\" style=\"stroke:black;stroke-width:1\" /><line x1=\"148.826\" y1=\"253.174\" x2=\"253.174\" y2=\"253.174\" stroke-linecap=\"round\" style=\"stroke:black;stroke-width:1\" /><line x1=\"253.174\" y1=\"253.174\" x2=\"253.174\" y2=\"148.826\" stroke-linecap=\"round\" style=\"stroke:black;stroke-width:1\" /><line x1=\"253.174\" y1=\"148.826\" x2=\"148.826\" y2=\"148.826\" stroke-linecap=\"round\" style=\"stroke:black;stroke-width:1\" /><line x1=\"148.826\" y1=\"148.826\" x2=\"148.826\" y2=\"253.174\" stroke-linecap=\"round\" style=\"stroke:black;stroke-width:1\" /><line x1=\"157.522\" y1=\"244.478\" x2=\"244.479\" y2=\"244.478\" stroke-linecap=\"round\" style=\"stroke:black;stroke-width:1\" /><line x1=\"244.479\" y1=\"244.478\" x2=\"244.479\" y2=\"157.521\" stroke-linecap=\"round\" style=\"stroke:black;stroke-width:1\" /><line x1=\"244.479\" y1=\"157.521\" x2=\"157.522\" y2=\"157.521\" stroke-linecap=\"round\" style=\"stroke:black;stroke-width:1\" /><line x1=\"157.522\" y1=\"157.521\" x2=\"157.522\" y2=\"244.478\" stroke-linecap=\"round\" style=\"stroke:black;stroke-width:1\" /><line x1=\"166.217\" y1=\"235.783\" x2=\"235.782\" y2=\"235.783\" stroke-linecap=\"round\" style=\"stroke:black;stroke-width:1\" /><line x1=\"235.782\" y1=\"235.783\" x2=\"235.782\" y2=\"166.218\" stroke-linecap=\"round\" style=\"stroke:black;stroke-width:1\" /><line x1=\"235.782\" y1=\"166.218\" x2=\"166.217\" y2=\"166.218\" stroke-linecap=\"round\" style=\"stroke:black;stroke-width:1\" /><line x1=\"166.217\" y1=\"166.218\" x2=\"166.217\" y2=\"235.783\" stroke-linecap=\"round\" style=\"stroke:black;stroke-width:1\" /><line x1=\"174.913\" y1=\"227.087\" x2=\"227.087\" y2=\"227.087\" stroke-linecap=\"round\" style=\"stroke:black;stroke-width:1\" /><line x1=\"227.087\" y1=\"227.087\" x2=\"227.087\" y2=\"174.913\" stroke-linecap=\"round\" style=\"stroke:black;stroke-width:1\" /><line x1=\"227.087\" y1=\"174.913\" x2=\"174.913\" y2=\"174.913\" stroke-linecap=\"round\" style=\"stroke:black;stroke-width:1\" /><line x1=\"174.913\" y1=\"174.913\" x2=\"174.913\" y2=\"227.087\" stroke-linecap=\"round\" style=\"stroke:black;stroke-width:1\" /><line x1=\"183.609\" y1=\"218.391\" x2=\"218.392\" y2=\"218.391\" stroke-linecap=\"round\" style=\"stroke:black;stroke-width:1\" /><line x1=\"218.392\" y1=\"218.391\" x2=\"218.392\" y2=\"183.608\" stroke-linecap=\"round\" style=\"stroke:black;stroke-width:1\" /><line x1=\"218.392\" y1=\"183.608\" x2=\"183.609\" y2=\"183.608\" stroke-linecap=\"round\" style=\"stroke:black;stroke-width:1\" /><line x1=\"183.609\" y1=\"183.608\" x2=\"183.609\" y2=\"218.391\" stroke-linecap=\"round\" style=\"stroke:black;stroke-width:1\" /><line x1=\"192.304\" y1=\"209.696\" x2=\"209.695\" y2=\"209.696\" stroke-linecap=\"round\" style=\"stroke:black;stroke-width:1\" /><line x1=\"209.695\" y1=\"209.696\" x2=\"209.695\" y2=\"192.305\" stroke-linecap=\"round\" style=\"stroke:black;stroke-width:1\" /><line x1=\"209.695\" y1=\"192.305\" x2=\"192.304\" y2=\"192.305\" stroke-linecap=\"round\" style=\"stroke:black;stroke-width:1\" /><line x1=\"192.304\" y1=\"192.305\" x2=\"192.304\" y2=\"209.696\" stroke-linecap=\"round\" style=\"stroke:black;stroke-width:1\" /><line x1=\"201.0\" y1=\"201.0\" x2=\"201.0\" y2=\"201.0\" stroke-linecap=\"round\" style=\"stroke:black;stroke-width:1\" /><line x1=\"201.0\" y1=\"201.0\" x2=\"201.0\" y2=\"201.0\" stroke-linecap=\"round\" style=\"stroke:black;stroke-width:1\" /><line x1=\"201.0\" y1=\"201.0\" x2=\"201.0\" y2=\"201.0\" stroke-linecap=\"round\" style=\"stroke:black;stroke-width:1\" /><line x1=\"201.0\" y1=\"201.0\" x2=\"201.0\" y2=\"201.0\" stroke-linecap=\"round\" style=\"stroke:black;stroke-width:1\" />\n",
              "        \n",
              "        \n",
              "        <g id=\"turtle\" visibility=\"hidden\" transform=\"rotate(90,201.0,201.0) translate(201.0, 201.0)\">\n",
              "<path style=\"stroke:black;fill-rule:evenodd;fill:black;fill-opacity:1;\" transform=\"skewX(0) scale(1,1)\" d=\"m 1.1536693,-18.56101 c -2.105469,1.167969 -3.203125,3.441407 -3.140625,6.5 l 0.011719,0.519532 -0.300782,-0.15625 c -1.308594,-0.671875 -2.828125,-0.824219 -4.378906,-0.429688 -1.9375,0.484375 -3.8906253,2.089844 -6.0117193,4.9257825 -1.332031,1.785156 -1.714843,2.644531 -1.351562,3.035156 l 0.113281,0.125 h 0.363281 c 0.71875,0 1.308594,-0.265625 4.6679693,-2.113282 1.199219,-0.660156 2.183594,-1.199218 2.191406,-1.199218 0.00781,0 -0.023437,0.089844 -0.074218,0.195312 -0.472657,1.058594 -1.046876,2.785156 -1.335938,4.042969 -1.054688,4.574219 -0.351562,8.453125 2.101562,11.582031 0.28125,0.355469 0.292969,0.253906 -0.097656,0.722656 -2.046875,2.4609375 -3.027344,4.8984375 -2.734375,6.8046875 0.050781,0.339844 0.042969,0.335938 0.679688,0.335938 2.023437,0 4.15625,-1.316407 6.21875,-3.835938 0.222656,-0.269531 0.191406,-0.261719 0.425781,-0.113281 0.730469,0.46875 2.460938,1.390625 2.613281,1.390625 0.160157,0 1.765625,-0.753906 2.652344,-1.246094 0.167969,-0.09375 0.308594,-0.164062 0.308594,-0.160156 0.066406,0.105468 0.761719,0.855468 1.085937,1.171875 1.613282,1.570312 3.339844,2.402343 5.3593747,2.570312 0.324219,0.02734 0.355469,0.0078 0.425781,-0.316406 0.375,-1.742187 -0.382812,-4.058594 -2.1445307,-6.5585935 l -0.320312,-0.457031 0.15625,-0.183594 c 3.2460927,-3.824218 3.4335927,-9.08593704 0.558593,-15.816406 l -0.050781,-0.125 1.7382807,0.859375 c 3.585938,1.773437 4.371094,2.097656 5.085938,2.097656 0.945312,0 0.75,-0.863281 -0.558594,-2.507812 C 11.458356,-11.838353 8.3333563,-13.268041 4.8607003,-11.721166 l -0.363281,0.164063 0.019531,-0.09375 c 0.121094,-0.550781 0.183594,-1.800781 0.121094,-2.378907 -0.203125,-1.867187 -1.035157,-3.199218 -2.695313,-4.308593 -0.523437,-0.351563 -0.546875,-0.355469 -0.789062,-0.222657\" />\n",
              "</g>\n",
              "      </svg>\n",
              "    "
            ]
          },
          "metadata": {}
        }
      ]
    }
  ]
}