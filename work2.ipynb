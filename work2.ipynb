{
  "nbformat": 4,
  "nbformat_minor": 0,
  "metadata": {
    "colab": {
      "provenance": [],
      "authorship_tag": "ABX9TyNaOnDR+js8dXWQp5QsM3AI",
      "include_colab_link": true
    },
    "kernelspec": {
      "name": "python3",
      "display_name": "Python 3"
    },
    "language_info": {
      "name": "python"
    }
  },
  "cells": [
    {
      "cell_type": "markdown",
      "metadata": {
        "id": "view-in-github",
        "colab_type": "text"
      },
      "source": [
        "<a href=\"https://colab.research.google.com/github/yuk82/Prog2kakushin/blob/main/work2.ipynb\" target=\"_parent\"><img src=\"https://colab.research.google.com/assets/colab-badge.svg\" alt=\"Open In Colab\"/></a>"
      ]
    },
    {
      "cell_type": "markdown",
      "source": [
        "numpyを利用して大小ゲームを行うプログラムを作成"
      ],
      "metadata": {
        "id": "ik1BnqHk3cC6"
      }
    },
    {
      "cell_type": "code",
      "execution_count": 42,
      "metadata": {
        "id": "A1tUh2Ua3E8N",
        "colab": {
          "base_uri": "https://localhost:8080/"
        },
        "outputId": "7e084f74-be20-4c2d-e561-d0eb41ae9a85"
      },
      "outputs": [
        {
          "output_type": "stream",
          "name": "stdout",
          "text": [
            "how many times?:100\n",
            "big or smoll game!\n",
            "\n",
            "6\n",
            "big or smoll?:smoll\n",
            "\n",
            "49\n",
            "miss!\n",
            "\n",
            "final point 1\n",
            "[ 6 49 42 43 40  3 37 93 32 23 34 93 22 18 19 25 79 95 15 23 63 81 64 30\n",
            " 23 22 70 42 24 81 44  6 14  7 60 22 44 83 63 59 31 68 99 51  3 44 92 18\n",
            " 58 44  1 10  3  6 81 27 79 23 48 41 54 75 22 26 34 58 77 28 49 59 57 37\n",
            " 73 82 42 44 10 30 93 51 85 31 63 59  1 21 52 69 23 58 43 90 28 17 24 97\n",
            " 23  8 55 59 80]\n",
            "max 99, min 1\n"
          ]
        }
      ],
      "source": [
        "import numpy as np\n",
        "#挑戦回数を指定\n",
        "count=int(input('how many times?:',))\n",
        "#乱数を取得\n",
        "number=np.random.randint(1,100,count+1)\n",
        "x=0\n",
        "point=1\n",
        "print('big or smoll game!')\n",
        "print()\n",
        "print(number[0])\n",
        "while x < count:\n",
        "  #大小関係を指定\n",
        "  answer=input('big or smoll?:',)\n",
        "  if answer == 'big':\n",
        "    b=number[x+1]\n",
        "    s=number[x]\n",
        "  else:\n",
        "    b=number[x]\n",
        "    s=number[x+1]\n",
        "  print()\n",
        "  print(number[x+1])\n",
        "  #大小関係を調べる\n",
        "  if b >= s:\n",
        "    print('great!')\n",
        "    point*=2\n",
        "    print(f'point {point}')\n",
        "    x+=1\n",
        "  else:\n",
        "    print('miss!')\n",
        "    break\n",
        "print()\n",
        "#パーフェクト時にボーナスでポイントが増える\n",
        "if x == count:\n",
        "   print('perfect bonus!') \n",
        "   point*=1.5\n",
        "print(f'final point {point}')\n",
        "#数字をすべて表示\n",
        "print(number)\n",
        "#登場する数字の最大と最少を表示\n",
        "print(f'max {np.max(number)}, min {np.min(number)}')"
      ]
    }
  ]
}